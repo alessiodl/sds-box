{
 "cells": [
  {
   "cell_type": "markdown",
   "id": "a48850c4-1c4f-4281-8192-c350df0af38c",
   "metadata": {},
   "source": [
    "# Ricerca dati Sentinel 2\n",
    "Questo notebook mostra l'uso di alcune librerie preinstallate nel container per eseguire una ricerca in un catalogo STAC (Spatio Temporal Asset Catalog) di dati Sentinel-2. I risultati della ricerca sono elencati come dataframe e poi visualizzati su una mappa interattiva"
   ]
  },
  {
   "cell_type": "code",
   "execution_count": 31,
   "id": "70bcefc1-124f-4bff-8b74-ac31d5f171d1",
   "metadata": {},
   "outputs": [],
   "source": [
    "from pystac_client import Client"
   ]
  },
  {
   "cell_type": "markdown",
   "id": "437c8467-1ead-487e-807e-33960e022c9f",
   "metadata": {},
   "source": [
    "### Connession al catalogo STAC AWS Sentinel-2"
   ]
  },
  {
   "cell_type": "code",
   "execution_count": 36,
   "id": "6e37a9b2-e8ec-4c1b-9522-c40d15d793d5",
   "metadata": {
    "scrolled": true
   },
   "outputs": [],
   "source": [
    "catalog_url = \"https://earth-search.aws.element84.com/v1\"\n",
    "\n",
    "catalog = Client.open(\n",
    "    url=catalog_url\n",
    ")"
   ]
  },
  {
   "cell_type": "markdown",
   "id": "5eaf5d15-0480-461e-ad89-5a911d8af2ea",
   "metadata": {},
   "source": [
    "### Ricerca nel catalogo"
   ]
  },
  {
   "cell_type": "markdown",
   "id": "c5459e30-e64d-458f-8667-55bd46aa38c2",
   "metadata": {},
   "source": [
    "#### Parametri"
   ]
  },
  {
   "cell_type": "code",
   "execution_count": 33,
   "id": "49bc5ebb-cac2-4fc1-ab6c-4994729c0ddb",
   "metadata": {},
   "outputs": [],
   "source": [
    "collection = \"sentinel-2-l2a\"\n",
    "\n",
    "area_of_interest = {\n",
    "    \"type\": \"Polygon\",\n",
    "    \"coordinates\": [\n",
    "        [\n",
    "            [14.335072274700622, 40.88868507222068],\n",
    "            [14.335072274700622, 40.7572458523517],\n",
    "            [14.524378202519358, 40.7572458523517],\n",
    "            [14.524378202519358, 40.88868507222068],\n",
    "            [14.335072274700622, 40.88868507222068],\n",
    "        ]\n",
    "    ],\n",
    "}\n",
    "\n",
    "time_of_interest = \"2023-07-01/2023-07-31\""
   ]
  },
  {
   "cell_type": "markdown",
   "id": "056fd88c-369b-481e-9cb2-d234c26ebe6e",
   "metadata": {},
   "source": [
    "#### Ricerca"
   ]
  },
  {
   "cell_type": "code",
   "execution_count": 45,
   "id": "b2f81a13-032d-469e-b4e5-526299e44b2f",
   "metadata": {},
   "outputs": [
    {
     "name": "stdout",
     "output_type": "stream",
     "text": [
      "La ricerca ha trovato 12 Items\n"
     ]
    }
   ],
   "source": [
    "search = catalog.search(\n",
    "    collections=[collection], intersects=area_of_interest, datetime=time_of_interest\n",
    ")\n",
    "items = search.item_collection()\n",
    "print(f\"La ricerca ha trovato {len(items)} Items\")"
   ]
  },
  {
   "cell_type": "code",
   "execution_count": null,
   "id": "a15a2e28-315f-4dec-8603-a7ab60dc535c",
   "metadata": {},
   "outputs": [],
   "source": []
  }
 ],
 "metadata": {
  "kernelspec": {
   "display_name": "Python 3 (ipykernel)",
   "language": "python",
   "name": "python3"
  },
  "language_info": {
   "codemirror_mode": {
    "name": "ipython",
    "version": 3
   },
   "file_extension": ".py",
   "mimetype": "text/x-python",
   "name": "python",
   "nbconvert_exporter": "python",
   "pygments_lexer": "ipython3",
   "version": "3.12.3"
  }
 },
 "nbformat": 4,
 "nbformat_minor": 5
}
