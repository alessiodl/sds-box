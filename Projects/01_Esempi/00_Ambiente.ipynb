{
 "cells": [
  {
   "cell_type": "markdown",
   "id": "bb29084f-a6f1-4231-bbc2-06c60ff10b67",
   "metadata": {},
   "source": [
    "# Spatial Data Science Container\n",
    "Questo container è basato sull'immagine docker ufficiale di **osgeo/gdal:ubuntu-small-xxx** e si prefigge l'obiettivo di fornire un ambiente di lavoro pronto all'uso per analisi spaziale, spatial data science ed earth observation. La maggior parte dei pacchetti utili a questi scopi sono inclusi ed è possibile estendere e modificare a piacere il container qualora qualcosa mancasse o, al contrario, fosse di troppo."
   ]
  },
  {
   "cell_type": "code",
   "execution_count": 1,
   "id": "ad215c28-ac29-4f7f-b974-bcbdfef695ba",
   "metadata": {},
   "outputs": [
    {
     "data": {
      "text/plain": [
       "'Sistema operativo del container: Ubuntu 24.04'"
      ]
     },
     "execution_count": 1,
     "metadata": {},
     "output_type": "execute_result"
    }
   ],
   "source": [
    "import distro\n",
    "f\"Sistema operativo del container: {distro.name()} {distro.version()}\""
   ]
  },
  {
   "cell_type": "markdown",
   "id": "7bec13a5-35ca-46e4-8898-9e31d37d31e2",
   "metadata": {},
   "source": [
    "### Import di esempio\n",
    "Per l'elenco completo dei pacchetti consultare il file _requirements.txt_"
   ]
  },
  {
   "cell_type": "code",
   "execution_count": 2,
   "id": "bfe1013c-5a24-4ebb-aeaf-8676638ca201",
   "metadata": {},
   "outputs": [],
   "source": [
    "from osgeo import gdal\n",
    "import pandas as pd\n",
    "import geopandas as gpd\n",
    "import plotly\n",
    "import pystac_client\n",
    "import odc.stac"
   ]
  },
  {
   "cell_type": "markdown",
   "id": "bd6d5522-d621-4da9-bab2-e610269dffba",
   "metadata": {},
   "source": [
    "#### Versioni dei pacchetti richiamati"
   ]
  },
  {
   "cell_type": "code",
   "execution_count": 3,
   "id": "3865bd74-2d04-4fb7-a5e2-0217135ddfdc",
   "metadata": {},
   "outputs": [
    {
     "data": {
      "text/plain": [
       "'GDAL: 3.9.0, Pandas: 2.2.2, GeoPandas: 1.0.0, Plotly: 5.22.0, PySTAC: 0.8.2, ODC STAC: 0.3.9'"
      ]
     },
     "execution_count": 3,
     "metadata": {},
     "output_type": "execute_result"
    }
   ],
   "source": [
    "f\"GDAL: {gdal.__version__}, Pandas: {pd.__version__}, GeoPandas: {gpd.__version__}, Plotly: {plotly.__version__}, PySTAC: {pystac_client.__version__}, ODC STAC: {odc.stac.__version__}\""
   ]
  },
  {
   "cell_type": "code",
   "execution_count": null,
   "id": "31ad9bc1-b077-4058-a828-b0a566074a10",
   "metadata": {},
   "outputs": [],
   "source": []
  }
 ],
 "metadata": {
  "kernelspec": {
   "display_name": "Python 3 (ipykernel)",
   "language": "python",
   "name": "python3"
  },
  "language_info": {
   "codemirror_mode": {
    "name": "ipython",
    "version": 3
   },
   "file_extension": ".py",
   "mimetype": "text/x-python",
   "name": "python",
   "nbconvert_exporter": "python",
   "pygments_lexer": "ipython3",
   "version": "3.12.3"
  }
 },
 "nbformat": 4,
 "nbformat_minor": 5
}
