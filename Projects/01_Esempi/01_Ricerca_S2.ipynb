{
 "cells": [
  {
   "cell_type": "markdown",
   "id": "a48850c4-1c4f-4281-8192-c350df0af38c",
   "metadata": {},
   "source": [
    "# Ricerca dati Sentinel 2\n",
    "Questo notebook dimostra l'uso di alcune librerie preinstallate nel container per eseguire una ricerca in un catalogo STAC (Spatio Temporal Asset Catalog) di dati Sentinel-2. I risultati della ricerca sono elencati come dataframe e poi visualizzati su una mappa interattiva"
   ]
  },
  {
   "cell_type": "code",
   "execution_count": null,
   "id": "70bcefc1-124f-4bff-8b74-ac31d5f171d1",
   "metadata": {},
   "outputs": [],
   "source": []
  }
 ],
 "metadata": {
  "kernelspec": {
   "display_name": "Python 3 (ipykernel)",
   "language": "python",
   "name": "python3"
  },
  "language_info": {
   "codemirror_mode": {
    "name": "ipython",
    "version": 3
   },
   "file_extension": ".py",
   "mimetype": "text/x-python",
   "name": "python",
   "nbconvert_exporter": "python",
   "pygments_lexer": "ipython3",
   "version": "3.12.3"
  }
 },
 "nbformat": 4,
 "nbformat_minor": 5
}
