{
 "cells": [
  {
   "cell_type": "markdown",
   "id": "a48850c4-1c4f-4281-8192-c350df0af38c",
   "metadata": {},
   "source": [
    "# Ricerca dati Sentinel 2\n",
    "Questo notebook mostra l'uso di alcune librerie preinstallate nel container per eseguire una ricerca in un catalogo STAC (Spatio Temporal Asset Catalog) di dati Sentinel-2. I risultati della ricerca sono elencati come dataframe e poi visualizzati su una mappa interattiva"
   ]
  },
  {
   "cell_type": "code",
   "execution_count": 72,
   "id": "70bcefc1-124f-4bff-8b74-ac31d5f171d1",
   "metadata": {},
   "outputs": [
    {
     "ename": "ModuleNotFoundError",
     "evalue": "No module named 'matplotlib'",
     "output_type": "error",
     "traceback": [
      "\u001b[0;31m---------------------------------------------------------------------------\u001b[0m",
      "\u001b[0;31mModuleNotFoundError\u001b[0m                       Traceback (most recent call last)",
      "Cell \u001b[0;32mIn[72], line 5\u001b[0m\n\u001b[1;32m      3\u001b[0m \u001b[38;5;28;01mfrom\u001b[39;00m \u001b[38;5;21;01modc\u001b[39;00m\u001b[38;5;21;01m.\u001b[39;00m\u001b[38;5;21;01mstac\u001b[39;00m \u001b[38;5;28;01mimport\u001b[39;00m load\n\u001b[1;32m      4\u001b[0m \u001b[38;5;28;01mimport\u001b[39;00m \u001b[38;5;21;01modc\u001b[39;00m\u001b[38;5;21;01m.\u001b[39;00m\u001b[38;5;21;01mgeo\u001b[39;00m\n\u001b[0;32m----> 5\u001b[0m \u001b[38;5;28;01mimport\u001b[39;00m \u001b[38;5;21;01mmatplotlib\u001b[39;00m\n",
      "\u001b[0;31mModuleNotFoundError\u001b[0m: No module named 'matplotlib'"
     ]
    }
   ],
   "source": [
    "from pystac_client import Client\n",
    "import geopandas as gpd\n",
    "from odc.stac import load\n",
    "import odc.geo\n",
    "import matplotlib"
   ]
  },
  {
   "cell_type": "markdown",
   "id": "437c8467-1ead-487e-807e-33960e022c9f",
   "metadata": {},
   "source": [
    "### Connession al catalogo STAC AWS Sentinel-2"
   ]
  },
  {
   "cell_type": "code",
   "execution_count": 65,
   "id": "6e37a9b2-e8ec-4c1b-9522-c40d15d793d5",
   "metadata": {
    "scrolled": true
   },
   "outputs": [],
   "source": [
    "catalog_url = \"https://earth-search.aws.element84.com/v1\"\n",
    "\n",
    "catalog = Client.open(\n",
    "    url=catalog_url\n",
    ")"
   ]
  },
  {
   "cell_type": "markdown",
   "id": "5eaf5d15-0480-461e-ad89-5a911d8af2ea",
   "metadata": {},
   "source": [
    "### Ricerca nel catalogo"
   ]
  },
  {
   "cell_type": "markdown",
   "id": "c5459e30-e64d-458f-8667-55bd46aa38c2",
   "metadata": {},
   "source": [
    "#### Parametri"
   ]
  },
  {
   "cell_type": "code",
   "execution_count": 66,
   "id": "49bc5ebb-cac2-4fc1-ab6c-4994729c0ddb",
   "metadata": {},
   "outputs": [],
   "source": [
    "collection = \"sentinel-2-l2a\"\n",
    "\n",
    "area_of_interest = {\n",
    "    \"type\": \"Polygon\",\n",
    "    \"coordinates\": [\n",
    "        [\n",
    "            [14.335072274700622, 40.88868507222068],\n",
    "            [14.335072274700622, 40.7572458523517],\n",
    "            [14.524378202519358, 40.7572458523517],\n",
    "            [14.524378202519358, 40.88868507222068],\n",
    "            [14.335072274700622, 40.88868507222068],\n",
    "        ]\n",
    "    ],\n",
    "}\n",
    "\n",
    "time_of_interest = \"2023-07-01/2023-07-31\"\n",
    "\n",
    "# filtri aggiuntivi per metadata \n",
    "filters = {\n",
    "    \"eo:cloud_cover\":{\"lt\":0.2},\n",
    "    \"s2:vegetation_percentage\": {\"gt\": 25}\n",
    "}"
   ]
  },
  {
   "cell_type": "markdown",
   "id": "056fd88c-369b-481e-9cb2-d234c26ebe6e",
   "metadata": {},
   "source": [
    "#### Ricerca"
   ]
  },
  {
   "cell_type": "code",
   "execution_count": 67,
   "id": "b2f81a13-032d-469e-b4e5-526299e44b2f",
   "metadata": {},
   "outputs": [
    {
     "name": "stdout",
     "output_type": "stream",
     "text": [
      "La ricerca ha trovato 5 Items\n"
     ]
    }
   ],
   "source": [
    "search = catalog.search(\n",
    "    collections=[collection], intersects=area_of_interest, datetime=time_of_interest, query=filters\n",
    ")\n",
    "items = search.item_collection()\n",
    "print(f\"La ricerca ha trovato {len(items)} Items\")"
   ]
  },
  {
   "cell_type": "markdown",
   "id": "3e74d615-c1db-4e65-a69c-35d63d3ebac8",
   "metadata": {},
   "source": [
    "### Elenco risultati come GeoDataframe"
   ]
  },
  {
   "cell_type": "code",
   "execution_count": 71,
   "id": "5fe2c619-b66b-45e5-8463-06936818d680",
   "metadata": {
    "scrolled": true
   },
   "outputs": [
    {
     "ename": "ImportError",
     "evalue": "The 'folium', 'matplotlib' and 'mapclassify' packages are required for 'explore()'. You can install them using 'conda install -c conda-forge folium matplotlib mapclassify' or 'pip install folium matplotlib mapclassify'.",
     "output_type": "error",
     "traceback": [
      "\u001b[0;31m---------------------------------------------------------------------------\u001b[0m",
      "\u001b[0;31mModuleNotFoundError\u001b[0m                       Traceback (most recent call last)",
      "File \u001b[0;32m/opt/geoenv/lib/python3.12/site-packages/geopandas/explore.py:287\u001b[0m, in \u001b[0;36m_explore\u001b[0;34m(df, column, cmap, color, m, tiles, attr, tooltip, popup, highlight, categorical, legend, scheme, k, vmin, vmax, width, height, categories, classification_kwds, control_scale, marker_type, marker_kwds, style_kwds, highlight_kwds, missing_kwds, tooltip_kwds, popup_kwds, legend_kwds, map_kwds, **kwargs)\u001b[0m\n\u001b[1;32m    286\u001b[0m \u001b[38;5;28;01mimport\u001b[39;00m \u001b[38;5;21;01mfolium\u001b[39;00m\n\u001b[0;32m--> 287\u001b[0m \u001b[38;5;28;01mimport\u001b[39;00m \u001b[38;5;21;01mmatplotlib\u001b[39;00m\n\u001b[1;32m    288\u001b[0m \u001b[38;5;28;01mimport\u001b[39;00m \u001b[38;5;21;01mmatplotlib\u001b[39;00m\u001b[38;5;21;01m.\u001b[39;00m\u001b[38;5;21;01mpyplot\u001b[39;00m \u001b[38;5;28;01mas\u001b[39;00m \u001b[38;5;21;01mplt\u001b[39;00m\n",
      "\u001b[0;31mModuleNotFoundError\u001b[0m: No module named 'matplotlib'",
      "\nDuring handling of the above exception, another exception occurred:\n",
      "\u001b[0;31mImportError\u001b[0m                               Traceback (most recent call last)",
      "Cell \u001b[0;32mIn[71], line 2\u001b[0m\n\u001b[1;32m      1\u001b[0m gdf \u001b[38;5;241m=\u001b[39m gpd\u001b[38;5;241m.\u001b[39mGeoDataFrame\u001b[38;5;241m.\u001b[39mfrom_features(items\u001b[38;5;241m.\u001b[39mto_dict(), crs\u001b[38;5;241m=\u001b[39m\u001b[38;5;124m\"\u001b[39m\u001b[38;5;124mepsg:4326\u001b[39m\u001b[38;5;124m\"\u001b[39m)\n\u001b[0;32m----> 2\u001b[0m \u001b[43mgdf\u001b[49m\u001b[38;5;241;43m.\u001b[39;49m\u001b[43mexplore\u001b[49m\u001b[43m(\u001b[49m\u001b[43m)\u001b[49m\n",
      "File \u001b[0;32m/opt/geoenv/lib/python3.12/site-packages/geopandas/geodataframe.py:2305\u001b[0m, in \u001b[0;36mGeoDataFrame.explore\u001b[0;34m(self, *args, **kwargs)\u001b[0m\n\u001b[1;32m   2303\u001b[0m \u001b[38;5;129m@doc\u001b[39m(_explore)\n\u001b[1;32m   2304\u001b[0m \u001b[38;5;28;01mdef\u001b[39;00m \u001b[38;5;21mexplore\u001b[39m(\u001b[38;5;28mself\u001b[39m, \u001b[38;5;241m*\u001b[39margs, \u001b[38;5;241m*\u001b[39m\u001b[38;5;241m*\u001b[39mkwargs):\n\u001b[0;32m-> 2305\u001b[0m     \u001b[38;5;28;01mreturn\u001b[39;00m \u001b[43m_explore\u001b[49m\u001b[43m(\u001b[49m\u001b[38;5;28;43mself\u001b[39;49m\u001b[43m,\u001b[49m\u001b[43m \u001b[49m\u001b[38;5;241;43m*\u001b[39;49m\u001b[43margs\u001b[49m\u001b[43m,\u001b[49m\u001b[43m \u001b[49m\u001b[38;5;241;43m*\u001b[39;49m\u001b[38;5;241;43m*\u001b[39;49m\u001b[43mkwargs\u001b[49m\u001b[43m)\u001b[49m\n",
      "File \u001b[0;32m/opt/geoenv/lib/python3.12/site-packages/geopandas/explore.py:300\u001b[0m, in \u001b[0;36m_explore\u001b[0;34m(df, column, cmap, color, m, tiles, attr, tooltip, popup, highlight, categorical, legend, scheme, k, vmin, vmax, width, height, categories, classification_kwds, control_scale, marker_type, marker_kwds, style_kwds, highlight_kwds, missing_kwds, tooltip_kwds, popup_kwds, legend_kwds, map_kwds, **kwargs)\u001b[0m\n\u001b[1;32m    297\u001b[0m         \u001b[38;5;28;01mfrom\u001b[39;00m \u001b[38;5;21;01mmatplotlib\u001b[39;00m \u001b[38;5;28;01mimport\u001b[39;00m cm\n\u001b[1;32m    299\u001b[0m \u001b[38;5;28;01mexcept\u001b[39;00m (\u001b[38;5;167;01mImportError\u001b[39;00m, \u001b[38;5;167;01mModuleNotFoundError\u001b[39;00m):\n\u001b[0;32m--> 300\u001b[0m     \u001b[38;5;28;01mraise\u001b[39;00m \u001b[38;5;167;01mImportError\u001b[39;00m(\n\u001b[1;32m    301\u001b[0m         \u001b[38;5;124m\"\u001b[39m\u001b[38;5;124mThe \u001b[39m\u001b[38;5;124m'\u001b[39m\u001b[38;5;124mfolium\u001b[39m\u001b[38;5;124m'\u001b[39m\u001b[38;5;124m, \u001b[39m\u001b[38;5;124m'\u001b[39m\u001b[38;5;124mmatplotlib\u001b[39m\u001b[38;5;124m'\u001b[39m\u001b[38;5;124m and \u001b[39m\u001b[38;5;124m'\u001b[39m\u001b[38;5;124mmapclassify\u001b[39m\u001b[38;5;124m'\u001b[39m\u001b[38;5;124m packages are required for \u001b[39m\u001b[38;5;124m\"\u001b[39m\n\u001b[1;32m    302\u001b[0m         \u001b[38;5;124m\"\u001b[39m\u001b[38;5;124m'\u001b[39m\u001b[38;5;124mexplore()\u001b[39m\u001b[38;5;124m'\u001b[39m\u001b[38;5;124m. You can install them using \u001b[39m\u001b[38;5;124m\"\u001b[39m\n\u001b[1;32m    303\u001b[0m         \u001b[38;5;124m\"\u001b[39m\u001b[38;5;124m'\u001b[39m\u001b[38;5;124mconda install -c conda-forge folium matplotlib mapclassify\u001b[39m\u001b[38;5;124m'\u001b[39m\u001b[38;5;124m \u001b[39m\u001b[38;5;124m\"\u001b[39m\n\u001b[1;32m    304\u001b[0m         \u001b[38;5;124m\"\u001b[39m\u001b[38;5;124mor \u001b[39m\u001b[38;5;124m'\u001b[39m\u001b[38;5;124mpip install folium matplotlib mapclassify\u001b[39m\u001b[38;5;124m'\u001b[39m\u001b[38;5;124m.\u001b[39m\u001b[38;5;124m\"\u001b[39m\n\u001b[1;32m    305\u001b[0m     )\n\u001b[1;32m    307\u001b[0m \u001b[38;5;66;03m# xyservices is an optional dependency\u001b[39;00m\n\u001b[1;32m    308\u001b[0m \u001b[38;5;28;01mtry\u001b[39;00m:\n",
      "\u001b[0;31mImportError\u001b[0m: The 'folium', 'matplotlib' and 'mapclassify' packages are required for 'explore()'. You can install them using 'conda install -c conda-forge folium matplotlib mapclassify' or 'pip install folium matplotlib mapclassify'."
     ]
    }
   ],
   "source": [
    "gdf = gpd.GeoDataFrame.from_features(items.to_dict(), crs=\"epsg:4326\")\n",
    "gdf.explore()"
   ]
  },
  {
   "cell_type": "markdown",
   "id": "fb3278f4-7b99-498f-89dc-fac6159b6560",
   "metadata": {},
   "source": [
    "## Recupero dei dati dagli item "
   ]
  },
  {
   "cell_type": "code",
   "execution_count": null,
   "id": "e927f814-3552-4ba3-8c59-ddde406a0bf8",
   "metadata": {},
   "outputs": [],
   "source": []
  }
 ],
 "metadata": {
  "kernelspec": {
   "display_name": "Python 3 (ipykernel)",
   "language": "python",
   "name": "python3"
  },
  "language_info": {
   "codemirror_mode": {
    "name": "ipython",
    "version": 3
   },
   "file_extension": ".py",
   "mimetype": "text/x-python",
   "name": "python",
   "nbconvert_exporter": "python",
   "pygments_lexer": "ipython3",
   "version": "3.12.3"
  }
 },
 "nbformat": 4,
 "nbformat_minor": 5
}
